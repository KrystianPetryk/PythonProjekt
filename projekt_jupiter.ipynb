{
 "metadata": {
  "language_info": {
   "codemirror_mode": {
    "name": "ipython",
    "version": 3
   },
   "file_extension": ".py",
   "mimetype": "text/x-python",
   "name": "python",
   "nbconvert_exporter": "python",
   "pygments_lexer": "ipython3",
   "version": "3.8.3-final"
  },
  "orig_nbformat": 2,
  "kernelspec": {
   "name": "python3",
   "display_name": "Python 3",
   "language": "python"
  }
 },
 "nbformat": 4,
 "nbformat_minor": 2,
 "cells": [
  {
   "cell_type": "code",
   "execution_count": 1,
   "metadata": {},
   "outputs": [],
   "source": [
    "import sys\n",
    "import numpy as np\n",
    "import matplotlib.pyplot as plt\n",
    "import scipy.signal\n",
    "import cv2\n",
    "import imgproc\n",
    "from PIL import Image\n"
   ]
  },
  {
   "cell_type": "code",
   "execution_count": 2,
   "metadata": {},
   "outputs": [],
   "source": [
    "# Korekcja perspektywy\n",
    "def perspective_projection(original, params):\n",
    "    # Transformacja rzutowa zbioru punktów\n",
    "\n",
    "    x, y=original\n",
    "    A, B, C, D, E, F, G, H = params\n",
    "\n",
    "    xp=(A*x+B*y+C)/(G*x+H*y+1)\n",
    "    yp=(D*x+E*y+F)/(G*x+H*y+1)\n",
    "\n",
    "    return xp, yp"
   ]
  },
  {
   "cell_type": "code",
   "execution_count": 3,
   "metadata": {},
   "outputs": [],
   "source": [
    "# Obliczanie punktów\n",
    "def find_transformation(points, ref_points):\n",
    "    M=np.zeros((8,8))\n",
    "    v=np.zeros((8))\n",
    "\n",
    "    for i in range(0,4):\n",
    "        x,y=ref_points[i]\n",
    "        xp, yp=points[i]\n",
    "\n",
    "        M[2*i, :] = np.array([x, y, 1, 0, 0, 0, -x*xp, -y*xp])\n",
    "        M[2*i+1, :] = np.array([0, 0, 0, x, y, 1, -x*yp, -y*yp])\n",
    "\n",
    "        v[2*i]=xp\n",
    "        v[2*i+1]=yp\n",
    "\n",
    "    params = np.linalg.solve(M, v)\n",
    "    return params"
   ]
  },
  {
   "cell_type": "code",
   "execution_count": 4,
   "metadata": {},
   "outputs": [],
   "source": [
    "def correct_perspective(img, params, width, height):\n",
    "    rows=np.linspace(0, height-1, height)\n",
    "    cols=np.linspace(0, width-1, width)\n",
    "\n",
    "    x, y = np.meshgrid(cols, rows)\n",
    "    x= x.astype(np.int32)\n",
    "    y= y.astype(np.int32)\n",
    "\n",
    "    xp, yp= perspective_projection((x, y), params)\n",
    "    org_cols= np.floor(xp).astype(np.int32)\n",
    "    org_rows= np.floor(yp).astype(np.int32)\n",
    "\n",
    "    results=np.zeros((height, width, 3))\n",
    "    results[y, x, :] = img[org_rows, org_cols, :]\n",
    "\n",
    "    results=results.astype(np.uint8)\n",
    "\n",
    "    return results\n"
   ]
  },
  {
   "cell_type": "code",
   "execution_count": 6,
   "metadata": {},
   "outputs": [],
   "source": [
    "points=[]\n",
    "img=cv2.imread(\"foto.jpg\")\n",
    "img_cpy=img.copy()\n",
    "\n",
    "cv2.imshow(\"image\", img_cpy)\n",
    "cv2.imwrite(\"demo.jpg\",img)\n",
    "\n",
    "def add_point(event, x, y, flags, param):\n",
    "    if event== cv2.EVENT_LBUTTONDOWN:\n",
    "        points.append((x, y))\n",
    "        cv2.circle(img_cpy, (x, y), 3, [0,0,225], -1)\n",
    "\n",
    "        if len(points) == 4:\n",
    "            height = 640\n",
    "            width=480\n",
    "            ref_points= [(0,0), (width-1, 0), (width-1, height-1), (0, height-1)]\n",
    "            params=imgproc.find_transformation(points, ref_points )\n",
    "            rectified_img = imgproc.correct_perspective(img, params, width, height)\n",
    "            cv2.imshow(\"rectified image\", rectified_img)\n",
    "            cv2.imwrite(\"correct.jpg\", rectified_img)\n",
    "\n",
    "\n",
    "\n",
    "\n",
    "cv2.setMouseCallback(\"image\", add_point)\n",
    "\n",
    "while True:\n",
    "    cv2.imshow(\"image\", img_cpy)\n",
    "    key=cv2.waitKey(1)\n",
    "    if key==ord(\"q\"):\n",
    "        break"
   ]
  },
  {
   "cell_type": "code",
   "execution_count": null,
   "metadata": {},
   "outputs": [],
   "source": []
  }
 ]
}